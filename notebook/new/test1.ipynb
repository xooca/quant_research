{
 "cells": [
  {
   "cell_type": "code",
   "execution_count": 1,
   "metadata": {},
   "outputs": [],
   "source": [
    "import sys,os\n",
    "sys.path.append(\"/Users/prabhatkumar/Library/CloudStorage/GoogleDrive-888prabhat@gmail.com/My Drive/Work/quantitative_research/\")\n",
    "import pandas as pd\n",
    "import omegaconf\n",
    "#import data.utils.data_utils as du\n",
    "import hydra\n",
    "from hydra import initialize, initialize_config_module, initialize_config_dir, compose\n"
   ]
  },
  {
   "cell_type": "code",
   "execution_count": 3,
   "metadata": {},
   "outputs": [
    {
     "data": {
      "text/plain": [
       "'10min30min'"
      ]
     },
     "execution_count": 3,
     "metadata": {},
     "output_type": "execute_result"
    }
   ],
   "source": [
    "''.join(['10min', '30min'] )"
   ]
  },
  {
   "cell_type": "code",
   "execution_count": null,
   "metadata": {},
   "outputs": [],
   "source": []
  },
  {
   "cell_type": "code",
   "execution_count": 2,
   "metadata": {},
   "outputs": [],
   "source": [
    "hydra.core.global_hydra.GlobalHydra.instance().clear()\n",
    "#master_config = du.initialize_config(overrides=[f\"+master={master_config_name}\"],version_base=None, config_path=master_config_path)\n",
    "initialize(config_path='../../config/banknifty/data/')\n",
    "dc = compose(config_name=\"pandasta\")\n",
    "    \n"
   ]
  },
  {
   "cell_type": "code",
   "execution_count": 5,
   "metadata": {},
   "outputs": [
    {
     "name": "stdout",
     "output_type": "stream",
     "text": [
      "[{'kind': 'ema', 'close': 'close', 'length': 15, 'offset': 'None', 'suffix': 'ema_close'}, {'kind': 'ema', 'close': 'close', 'length': 30, 'offset': 'None', 'suffix': 'ema_close'}, {'kind': 'ema', 'close': 'close', 'length': 45, 'offset': 'None', 'suffix': 'ema_close'}, {'kind': 'ema', 'close': 'close', 'length': 60, 'offset': 'None', 'suffix': 'ema_close'}, {'kind': 'ema', 'close': 'close', 'length': 120, 'offset': 'None', 'suffix': 'ema_close'}, {'kind': 'ema', 'close': 'close', 'length': 240, 'offset': 'None', 'suffix': 'ema_close'}, {'kind': 'ema', 'close': 'close', 'length': 15, 'offset': 10, 'suffix': 'ema_close10'}, {'kind': 'ema', 'close': 'close', 'length': 30, 'offset': 10, 'suffix': 'ema_close10'}, {'kind': 'ema', 'close': 'close', 'length': 45, 'offset': 10, 'suffix': 'ema_close10'}, {'kind': 'ema', 'close': 'close', 'length': 60, 'offset': 10, 'suffix': 'ema_close10'}, {'kind': 'ema', 'close': 'close', 'length': 120, 'offset': 10, 'suffix': 'ema_close10'}, {'kind': 'ema', 'close': 'close', 'length': 240, 'offset': 10, 'suffix': 'ema_close10'}, {'kind': 'ema', 'close': 'close', 'length': 15, 'offset': 20, 'suffix': 'ema_close20'}, {'kind': 'ema', 'close': 'close', 'length': 30, 'offset': 20, 'suffix': 'ema_close20'}, {'kind': 'ema', 'close': 'close', 'length': 45, 'offset': 20, 'suffix': 'ema_close20'}, {'kind': 'ema', 'close': 'close', 'length': 60, 'offset': 20, 'suffix': 'ema_close20'}, {'kind': 'ema', 'close': 'close', 'length': 120, 'offset': 20, 'suffix': 'ema_close20'}, {'kind': 'ema', 'close': 'close', 'length': 240, 'offset': 20, 'suffix': 'ema_close20'}]\n",
      "[{'kind': 'rsi', 'close': 'close', 'length': 15, 'offset': 'None', 'suffix': 'rsi_close'}, {'kind': 'rsi', 'close': 'close', 'length': 30, 'offset': 'None', 'suffix': 'rsi_close'}, {'kind': 'rsi', 'close': 'close', 'length': 45, 'offset': 'None', 'suffix': 'rsi_close'}, {'kind': 'rsi', 'close': 'close', 'length': 60, 'offset': 'None', 'suffix': 'rsi_close'}, {'kind': 'rsi', 'close': 'close', 'length': 120, 'offset': 'None', 'suffix': 'rsi_close'}, {'kind': 'rsi', 'close': 'close', 'length': 240, 'offset': 'None', 'suffix': 'rsi_close'}, {'kind': 'rsi', 'close': 'close', 'length': 15, 'offset': 10, 'suffix': 'rsi_close10'}, {'kind': 'rsi', 'close': 'close', 'length': 30, 'offset': 10, 'suffix': 'rsi_close10'}, {'kind': 'rsi', 'close': 'close', 'length': 45, 'offset': 10, 'suffix': 'rsi_close10'}, {'kind': 'rsi', 'close': 'close', 'length': 60, 'offset': 10, 'suffix': 'rsi_close10'}, {'kind': 'rsi', 'close': 'close', 'length': 120, 'offset': 10, 'suffix': 'rsi_close10'}, {'kind': 'rsi', 'close': 'close', 'length': 240, 'offset': 10, 'suffix': 'rsi_close10'}, {'kind': 'rsi', 'close': 'close', 'length': 15, 'offset': 20, 'suffix': 'rsi_close20'}, {'kind': 'rsi', 'close': 'close', 'length': 30, 'offset': 20, 'suffix': 'rsi_close20'}, {'kind': 'rsi', 'close': 'close', 'length': 45, 'offset': 20, 'suffix': 'rsi_close20'}, {'kind': 'rsi', 'close': 'close', 'length': 60, 'offset': 20, 'suffix': 'rsi_close20'}, {'kind': 'rsi', 'close': 'close', 'length': 120, 'offset': 20, 'suffix': 'rsi_close20'}, {'kind': 'rsi', 'close': 'close', 'length': 240, 'offset': 20, 'suffix': 'rsi_close20'}]\n",
      "[{'kind': 'supertrend', 'close': 'close', 'length': 15, 'offset': 'None', 'suffix': 'supertrend_close'}, {'kind': 'supertrend', 'close': 'close', 'length': 30, 'offset': 'None', 'suffix': 'supertrend_close'}, {'kind': 'supertrend', 'close': 'close', 'length': 45, 'offset': 'None', 'suffix': 'supertrend_close'}, {'kind': 'supertrend', 'close': 'close', 'length': 60, 'offset': 'None', 'suffix': 'supertrend_close'}, {'kind': 'supertrend', 'close': 'close', 'length': 120, 'offset': 'None', 'suffix': 'supertrend_close'}, {'kind': 'supertrend', 'close': 'close', 'length': 240, 'offset': 'None', 'suffix': 'supertrend_close'}, {'kind': 'supertrend', 'close': 'close', 'length': 15, 'offset': 10, 'suffix': 'supertrend_close10'}, {'kind': 'supertrend', 'close': 'close', 'length': 30, 'offset': 10, 'suffix': 'supertrend_close10'}, {'kind': 'supertrend', 'close': 'close', 'length': 45, 'offset': 10, 'suffix': 'supertrend_close10'}, {'kind': 'supertrend', 'close': 'close', 'length': 60, 'offset': 10, 'suffix': 'supertrend_close10'}, {'kind': 'supertrend', 'close': 'close', 'length': 120, 'offset': 10, 'suffix': 'supertrend_close10'}, {'kind': 'supertrend', 'close': 'close', 'length': 240, 'offset': 10, 'suffix': 'supertrend_close10'}, {'kind': 'supertrend', 'close': 'close', 'length': 15, 'offset': 20, 'suffix': 'supertrend_close20'}, {'kind': 'supertrend', 'close': 'close', 'length': 30, 'offset': 20, 'suffix': 'supertrend_close20'}, {'kind': 'supertrend', 'close': 'close', 'length': 45, 'offset': 20, 'suffix': 'supertrend_close20'}, {'kind': 'supertrend', 'close': 'close', 'length': 60, 'offset': 20, 'suffix': 'supertrend_close20'}, {'kind': 'supertrend', 'close': 'close', 'length': 120, 'offset': 20, 'suffix': 'supertrend_close20'}, {'kind': 'supertrend', 'close': 'close', 'length': 240, 'offset': 20, 'suffix': 'supertrend_close20'}]\n",
      "[{'kind': 'bbands', 'close': 'close', 'length': 15, 'offset': 'None', 'suffix': 'close'}, {'kind': 'bbands', 'close': 'close', 'length': 30, 'offset': 'None', 'suffix': 'close'}, {'kind': 'bbands', 'close': 'close', 'length': 45, 'offset': 'None', 'suffix': 'close'}, {'kind': 'bbands', 'close': 'close', 'length': 60, 'offset': 'None', 'suffix': 'close'}, {'kind': 'bbands', 'close': 'close', 'length': 120, 'offset': 'None', 'suffix': 'close'}, {'kind': 'bbands', 'close': 'close', 'length': 240, 'offset': 'None', 'suffix': 'close'}, {'kind': 'bbands', 'close': 'close', 'length': 15, 'offset': 10, 'suffix': 'close10'}, {'kind': 'bbands', 'close': 'close', 'length': 30, 'offset': 10, 'suffix': 'close10'}, {'kind': 'bbands', 'close': 'close', 'length': 45, 'offset': 10, 'suffix': 'close10'}, {'kind': 'bbands', 'close': 'close', 'length': 60, 'offset': 10, 'suffix': 'close10'}, {'kind': 'bbands', 'close': 'close', 'length': 120, 'offset': 10, 'suffix': 'close10'}, {'kind': 'bbands', 'close': 'close', 'length': 240, 'offset': 10, 'suffix': 'close10'}, {'kind': 'bbands', 'close': 'close', 'length': 15, 'offset': 20, 'suffix': 'close20'}, {'kind': 'bbands', 'close': 'close', 'length': 30, 'offset': 20, 'suffix': 'close20'}, {'kind': 'bbands', 'close': 'close', 'length': 45, 'offset': 20, 'suffix': 'close20'}, {'kind': 'bbands', 'close': 'close', 'length': 60, 'offset': 20, 'suffix': 'close20'}, {'kind': 'bbands', 'close': 'close', 'length': 120, 'offset': 20, 'suffix': 'close20'}, {'kind': 'bbands', 'close': 'close', 'length': 240, 'offset': 20, 'suffix': 'close20'}]\n",
      "[{'kind': 'donchian', 'high': 'high', 'low': 'low', 'lower_length': 20, 'upper_length': 20, 'offset': 'None', 'suffix': 'hl'}, {'kind': 'donchian', 'high': 'high', 'low': 'low', 'lower_length': 20, 'upper_length': 20, 'offset': 10, 'suffix': 'hl10'}, {'kind': 'donchian', 'high': 'high', 'low': 'low', 'lower_length': 20, 'upper_length': 20, 'offset': 20, 'suffix': 'hl20'}, {'kind': 'donchian', 'high': 'high', 'low': 'low', 'lower_length': 20, 'upper_length': 20, 'offset': 30, 'suffix': 'hl30'}, {'kind': 'donchian', 'high': 'high', 'low': 'low', 'lower_length': 20, 'upper_length': 20, 'offset': 40, 'suffix': 'hl40'}, {'kind': 'donchian', 'high': 'high', 'low': 'low', 'lower_length': 20, 'upper_length': 20, 'offset': 50, 'suffix': 'hl50'}]\n",
      "[{'kind': 'true_range', 'high': 'high', 'low': 'low', 'close': 'close', 'drift': 15, 'offset': 'None', 'suffix': 'hlc'}, {'kind': 'true_range', 'high': 'high', 'low': 'low', 'close': 'close', 'drift': 30, 'offset': 'None', 'suffix': 'hlc'}, {'kind': 'true_range', 'high': 'high', 'low': 'low', 'close': 'close', 'drift': 45, 'offset': 'None', 'suffix': 'hlc'}, {'kind': 'true_range', 'high': 'high', 'low': 'low', 'close': 'close', 'drift': 60, 'offset': 'None', 'suffix': 'hlc'}, {'kind': 'true_range', 'high': 'high', 'low': 'low', 'close': 'close', 'drift': 120, 'offset': 'None', 'suffix': 'hlc'}, {'kind': 'true_range', 'high': 'high', 'low': 'low', 'close': 'close', 'drift': 240, 'offset': 'None', 'suffix': 'hlc'}, {'kind': 'true_range', 'high': 'high', 'low': 'low', 'close': 'close', 'drift': 15, 'offset': 20, 'suffix': 'hlc20'}, {'kind': 'true_range', 'high': 'high', 'low': 'low', 'close': 'close', 'drift': 30, 'offset': 20, 'suffix': 'hlc20'}, {'kind': 'true_range', 'high': 'high', 'low': 'low', 'close': 'close', 'drift': 45, 'offset': 20, 'suffix': 'hlc20'}, {'kind': 'true_range', 'high': 'high', 'low': 'low', 'close': 'close', 'drift': 60, 'offset': 20, 'suffix': 'hlc20'}, {'kind': 'true_range', 'high': 'high', 'low': 'low', 'close': 'close', 'drift': 120, 'offset': 20, 'suffix': 'hlc20'}, {'kind': 'true_range', 'high': 'high', 'low': 'low', 'close': 'close', 'drift': 240, 'offset': 20, 'suffix': 'hlc20'}]\n",
      "[{'kind': 'rvi', 'high': 'high', 'low': 'low', 'length': 15, 'drift': 15, 'offset': 'None', 'suffix': 'hl'}, {'kind': 'rvi', 'high': 'high', 'low': 'low', 'length': 30, 'drift': 30, 'offset': 'None', 'suffix': 'hl'}, {'kind': 'rvi', 'high': 'high', 'low': 'low', 'length': 45, 'drift': 45, 'offset': 'None', 'suffix': 'hl'}, {'kind': 'rvi', 'high': 'high', 'low': 'low', 'length': 60, 'drift': 60, 'offset': 'None', 'suffix': 'hl'}, {'kind': 'rvi', 'high': 'high', 'low': 'low', 'length': 120, 'drift': 120, 'offset': 'None', 'suffix': 'hl'}, {'kind': 'rvi', 'high': 'high', 'low': 'low', 'length': 240, 'drift': 240, 'offset': 'None', 'suffix': 'hl'}, {'kind': 'rvi', 'high': 'high', 'low': 'low', 'length': 15, 'drift': 15, 'offset': 20, 'suffix': 'hl20'}, {'kind': 'rvi', 'high': 'high', 'low': 'low', 'length': 30, 'drift': 30, 'offset': 20, 'suffix': 'hl20'}, {'kind': 'rvi', 'high': 'high', 'low': 'low', 'length': 45, 'drift': 45, 'offset': 20, 'suffix': 'hl20'}, {'kind': 'rvi', 'high': 'high', 'low': 'low', 'length': 60, 'drift': 60, 'offset': 20, 'suffix': 'hl20'}, {'kind': 'rvi', 'high': 'high', 'low': 'low', 'length': 120, 'drift': 120, 'offset': 20, 'suffix': 'hl20'}, {'kind': 'rvi', 'high': 'high', 'low': 'low', 'length': 240, 'drift': 240, 'offset': 20, 'suffix': 'hl20'}]\n"
     ]
    }
   ],
   "source": [
    "for p in dc.pipelines:\n",
    "    print(dc.pipeline_definations[p])"
   ]
  },
  {
   "cell_type": "code",
   "execution_count": 3,
   "metadata": {},
   "outputs": [
    {
     "name": "stdout",
     "output_type": "stream",
     "text": [
      "Imported 0.2.04 version. Select nrows to a small number when running on huge datasets.\n",
      "output = featurewiz(dataname, target, corr_limit=0.90, verbose=2, sep=',', \n",
      "\t\theader=0, test_data='',feature_engg='', category_encoders='',\n",
      "\t\tdask_xgboost_flag=False, nrows=None, skip_sulov=False)\n",
      "Create new features via 'feature_engg' flag : ['interactions','groupby','target']\n",
      "\n"
     ]
    }
   ],
   "source": [
    "from featurewiz import FeatureWiz\n",
    "from shaphypetune import BoostSearch, BoostRFE, BoostRFA, BoostBoruta\n"
   ]
  },
  {
   "cell_type": "code",
   "execution_count": 4,
   "metadata": {},
   "outputs": [
    {
     "data": {
      "text/plain": [
       "shaphypetune.shaphypetune.BoostRFE"
      ]
     },
     "execution_count": 4,
     "metadata": {},
     "output_type": "execute_result"
    }
   ],
   "source": [
    "BoostRFE"
   ]
  },
  {
   "cell_type": "code",
   "execution_count": null,
   "metadata": {},
   "outputs": [],
   "source": []
  }
 ],
 "metadata": {
  "kernelspec": {
   "display_name": "Python 3.9.13 ('base')",
   "language": "python",
   "name": "python3"
  },
  "language_info": {
   "codemirror_mode": {
    "name": "ipython",
    "version": 3
   },
   "file_extension": ".py",
   "mimetype": "text/x-python",
   "name": "python",
   "nbconvert_exporter": "python",
   "pygments_lexer": "ipython3",
   "version": "3.9.13"
  },
  "orig_nbformat": 4,
  "vscode": {
   "interpreter": {
    "hash": "40d3a090f54c6569ab1632332b64b2c03c39dcf918b08424e98f38b5ae0af88f"
   }
  }
 },
 "nbformat": 4,
 "nbformat_minor": 2
}
